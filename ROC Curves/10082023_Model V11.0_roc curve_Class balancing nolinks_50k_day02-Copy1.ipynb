{
 "cells": [
  {
   "cell_type": "code",
   "execution_count": 1,
   "id": "041fad5c",
   "metadata": {},
   "outputs": [],
   "source": [
    "import pandas as pd\n",
    "from pyarrow import csv\n",
    "import numpy as np\n",
    "import networkx as nx\n",
    "from functools import reduce\n",
    "#import sweetviz as sv\n",
    "import matplotlib.pyplot as plt\n",
    "\n",
    "import timeit\n",
    "import time"
   ]
  },
  {
   "cell_type": "code",
   "execution_count": 2,
   "id": "23f4245e",
   "metadata": {
    "collapsed": true
   },
   "outputs": [
    {
     "data": {
      "text/html": [
       "<div>\n",
       "<style scoped>\n",
       "    .dataframe tbody tr th:only-of-type {\n",
       "        vertical-align: middle;\n",
       "    }\n",
       "\n",
       "    .dataframe tbody tr th {\n",
       "        vertical-align: top;\n",
       "    }\n",
       "\n",
       "    .dataframe thead th {\n",
       "        text-align: right;\n",
       "    }\n",
       "</style>\n",
       "<table border=\"1\" class=\"dataframe\">\n",
       "  <thead>\n",
       "    <tr style=\"text-align: right;\">\n",
       "      <th></th>\n",
       "      <th>Source</th>\n",
       "      <th>Destination</th>\n",
       "      <th>JaccardIndex</th>\n",
       "      <th>ResourceAllocation</th>\n",
       "      <th>AdamicAdar</th>\n",
       "      <th>PreferentialAttachment</th>\n",
       "      <th>CommonNeighborCentrality</th>\n",
       "      <th>Label</th>\n",
       "      <th>in_degree</th>\n",
       "      <th>out_degree</th>\n",
       "      <th>counts</th>\n",
       "      <th>max_duration</th>\n",
       "      <th>min_duration</th>\n",
       "      <th>avg_duration</th>\n",
       "      <th>max_SrcBytes</th>\n",
       "      <th>min_SrcBytes</th>\n",
       "      <th>avg_SrcBytes</th>\n",
       "      <th>max_DstBytes</th>\n",
       "      <th>min_DstBytes</th>\n",
       "      <th>avg_DstBytes</th>\n",
       "    </tr>\n",
       "  </thead>\n",
       "  <tbody>\n",
       "    <tr>\n",
       "      <th>0</th>\n",
       "      <td>ActiveDirectory</td>\n",
       "      <td>Comp002915</td>\n",
       "      <td>0.001429</td>\n",
       "      <td>0.012001</td>\n",
       "      <td>2.017466</td>\n",
       "      <td>220248</td>\n",
       "      <td>5555.800000</td>\n",
       "      <td>Missing</td>\n",
       "      <td>8</td>\n",
       "      <td>2888</td>\n",
       "      <td>3.0</td>\n",
       "      <td>2972.0</td>\n",
       "      <td>1.0</td>\n",
       "      <td>991.333333</td>\n",
       "      <td>288.0</td>\n",
       "      <td>96.0</td>\n",
       "      <td>160.000000</td>\n",
       "      <td>0.0</td>\n",
       "      <td>0.0</td>\n",
       "      <td>0.0</td>\n",
       "    </tr>\n",
       "    <tr>\n",
       "      <th>1</th>\n",
       "      <td>ActiveDirectory</td>\n",
       "      <td>Comp003448</td>\n",
       "      <td>0.001048</td>\n",
       "      <td>0.002411</td>\n",
       "      <td>1.264516</td>\n",
       "      <td>167808</td>\n",
       "      <td>5552.600000</td>\n",
       "      <td>Missing</td>\n",
       "      <td>4</td>\n",
       "      <td>2888</td>\n",
       "      <td>7.0</td>\n",
       "      <td>2971.0</td>\n",
       "      <td>0.0</td>\n",
       "      <td>717.000000</td>\n",
       "      <td>288.0</td>\n",
       "      <td>96.0</td>\n",
       "      <td>137.142857</td>\n",
       "      <td>0.0</td>\n",
       "      <td>0.0</td>\n",
       "      <td>0.0</td>\n",
       "    </tr>\n",
       "    <tr>\n",
       "      <th>2</th>\n",
       "      <td>ActiveDirectory</td>\n",
       "      <td>Comp005774</td>\n",
       "      <td>0.001144</td>\n",
       "      <td>0.002185</td>\n",
       "      <td>1.368704</td>\n",
       "      <td>167808</td>\n",
       "      <td>5553.400000</td>\n",
       "      <td>Missing</td>\n",
       "      <td>3</td>\n",
       "      <td>2888</td>\n",
       "      <td>1.0</td>\n",
       "      <td>1202.0</td>\n",
       "      <td>1202.0</td>\n",
       "      <td>1202.000000</td>\n",
       "      <td>138.0</td>\n",
       "      <td>138.0</td>\n",
       "      <td>138.000000</td>\n",
       "      <td>0.0</td>\n",
       "      <td>0.0</td>\n",
       "      <td>0.0</td>\n",
       "    </tr>\n",
       "    <tr>\n",
       "      <th>3</th>\n",
       "      <td>ActiveDirectory</td>\n",
       "      <td>Comp006160</td>\n",
       "      <td>0.002000</td>\n",
       "      <td>0.142927</td>\n",
       "      <td>3.233054</td>\n",
       "      <td>367080</td>\n",
       "      <td>5560.600000</td>\n",
       "      <td>Missing</td>\n",
       "      <td>8</td>\n",
       "      <td>2888</td>\n",
       "      <td>2.0</td>\n",
       "      <td>1.0</td>\n",
       "      <td>0.0</td>\n",
       "      <td>0.500000</td>\n",
       "      <td>618.0</td>\n",
       "      <td>96.0</td>\n",
       "      <td>357.000000</td>\n",
       "      <td>0.0</td>\n",
       "      <td>0.0</td>\n",
       "      <td>0.0</td>\n",
       "    </tr>\n",
       "    <tr>\n",
       "      <th>4</th>\n",
       "      <td>ActiveDirectory</td>\n",
       "      <td>Comp007324</td>\n",
       "      <td>0.001334</td>\n",
       "      <td>0.004589</td>\n",
       "      <td>1.644425</td>\n",
       "      <td>230736</td>\n",
       "      <td>5555.000000</td>\n",
       "      <td>Missing</td>\n",
       "      <td>1</td>\n",
       "      <td>2888</td>\n",
       "      <td>4.0</td>\n",
       "      <td>3455.0</td>\n",
       "      <td>1.0</td>\n",
       "      <td>1402.000000</td>\n",
       "      <td>384.0</td>\n",
       "      <td>96.0</td>\n",
       "      <td>264.000000</td>\n",
       "      <td>0.0</td>\n",
       "      <td>0.0</td>\n",
       "      <td>0.0</td>\n",
       "    </tr>\n",
       "    <tr>\n",
       "      <th>...</th>\n",
       "      <td>...</td>\n",
       "      <td>...</td>\n",
       "      <td>...</td>\n",
       "      <td>...</td>\n",
       "      <td>...</td>\n",
       "      <td>...</td>\n",
       "      <td>...</td>\n",
       "      <td>...</td>\n",
       "      <td>...</td>\n",
       "      <td>...</td>\n",
       "      <td>...</td>\n",
       "      <td>...</td>\n",
       "      <td>...</td>\n",
       "      <td>...</td>\n",
       "      <td>...</td>\n",
       "      <td>...</td>\n",
       "      <td>...</td>\n",
       "      <td>...</td>\n",
       "      <td>...</td>\n",
       "      <td>...</td>\n",
       "    </tr>\n",
       "    <tr>\n",
       "      <th>546394</th>\n",
       "      <td>Comp378365</td>\n",
       "      <td>Comp485524</td>\n",
       "      <td>0.166667</td>\n",
       "      <td>0.000380</td>\n",
       "      <td>0.333844</td>\n",
       "      <td>110</td>\n",
       "      <td>2774.300000</td>\n",
       "      <td>NoLink</td>\n",
       "      <td>0</td>\n",
       "      <td>11</td>\n",
       "      <td>0.0</td>\n",
       "      <td>0.0</td>\n",
       "      <td>0.0</td>\n",
       "      <td>0.000000</td>\n",
       "      <td>0.0</td>\n",
       "      <td>0.0</td>\n",
       "      <td>0.000000</td>\n",
       "      <td>0.0</td>\n",
       "      <td>0.0</td>\n",
       "      <td>0.0</td>\n",
       "    </tr>\n",
       "    <tr>\n",
       "      <th>546395</th>\n",
       "      <td>Comp928022</td>\n",
       "      <td>Comp270144</td>\n",
       "      <td>0.236842</td>\n",
       "      <td>0.001057</td>\n",
       "      <td>0.992423</td>\n",
       "      <td>462</td>\n",
       "      <td>2779.100000</td>\n",
       "      <td>NoLink</td>\n",
       "      <td>4</td>\n",
       "      <td>33</td>\n",
       "      <td>0.0</td>\n",
       "      <td>0.0</td>\n",
       "      <td>0.0</td>\n",
       "      <td>0.000000</td>\n",
       "      <td>0.0</td>\n",
       "      <td>0.0</td>\n",
       "      <td>0.000000</td>\n",
       "      <td>0.0</td>\n",
       "      <td>0.0</td>\n",
       "      <td>0.0</td>\n",
       "    </tr>\n",
       "    <tr>\n",
       "      <th>546396</th>\n",
       "      <td>Comp940027</td>\n",
       "      <td>Comp814131</td>\n",
       "      <td>0.000000</td>\n",
       "      <td>0.000000</td>\n",
       "      <td>0.000000</td>\n",
       "      <td>0</td>\n",
       "      <td>0.000000</td>\n",
       "      <td>NoLink</td>\n",
       "      <td>0</td>\n",
       "      <td>32</td>\n",
       "      <td>0.0</td>\n",
       "      <td>0.0</td>\n",
       "      <td>0.0</td>\n",
       "      <td>0.000000</td>\n",
       "      <td>0.0</td>\n",
       "      <td>0.0</td>\n",
       "      <td>0.000000</td>\n",
       "      <td>0.0</td>\n",
       "      <td>0.0</td>\n",
       "      <td>0.0</td>\n",
       "    </tr>\n",
       "    <tr>\n",
       "      <th>546397</th>\n",
       "      <td>Comp203056</td>\n",
       "      <td>Comp644901</td>\n",
       "      <td>0.000000</td>\n",
       "      <td>0.000000</td>\n",
       "      <td>0.000000</td>\n",
       "      <td>36</td>\n",
       "      <td>1847.933333</td>\n",
       "      <td>NoLink</td>\n",
       "      <td>2</td>\n",
       "      <td>18</td>\n",
       "      <td>0.0</td>\n",
       "      <td>0.0</td>\n",
       "      <td>0.0</td>\n",
       "      <td>0.000000</td>\n",
       "      <td>0.0</td>\n",
       "      <td>0.0</td>\n",
       "      <td>0.000000</td>\n",
       "      <td>0.0</td>\n",
       "      <td>0.0</td>\n",
       "      <td>0.0</td>\n",
       "    </tr>\n",
       "    <tr>\n",
       "      <th>546398</th>\n",
       "      <td>Comp821587</td>\n",
       "      <td>Comp215321</td>\n",
       "      <td>0.000000</td>\n",
       "      <td>0.000000</td>\n",
       "      <td>0.000000</td>\n",
       "      <td>76</td>\n",
       "      <td>1847.933333</td>\n",
       "      <td>NoLink</td>\n",
       "      <td>2</td>\n",
       "      <td>4</td>\n",
       "      <td>0.0</td>\n",
       "      <td>0.0</td>\n",
       "      <td>0.0</td>\n",
       "      <td>0.000000</td>\n",
       "      <td>0.0</td>\n",
       "      <td>0.0</td>\n",
       "      <td>0.000000</td>\n",
       "      <td>0.0</td>\n",
       "      <td>0.0</td>\n",
       "      <td>0.0</td>\n",
       "    </tr>\n",
       "  </tbody>\n",
       "</table>\n",
       "<p>546399 rows × 20 columns</p>\n",
       "</div>"
      ],
      "text/plain": [
       "                 Source Destination  JaccardIndex  ResourceAllocation  \\\n",
       "0       ActiveDirectory  Comp002915      0.001429            0.012001   \n",
       "1       ActiveDirectory  Comp003448      0.001048            0.002411   \n",
       "2       ActiveDirectory  Comp005774      0.001144            0.002185   \n",
       "3       ActiveDirectory  Comp006160      0.002000            0.142927   \n",
       "4       ActiveDirectory  Comp007324      0.001334            0.004589   \n",
       "...                 ...         ...           ...                 ...   \n",
       "546394       Comp378365  Comp485524      0.166667            0.000380   \n",
       "546395       Comp928022  Comp270144      0.236842            0.001057   \n",
       "546396       Comp940027  Comp814131      0.000000            0.000000   \n",
       "546397       Comp203056  Comp644901      0.000000            0.000000   \n",
       "546398       Comp821587  Comp215321      0.000000            0.000000   \n",
       "\n",
       "        AdamicAdar  PreferentialAttachment  CommonNeighborCentrality    Label  \\\n",
       "0         2.017466                  220248               5555.800000  Missing   \n",
       "1         1.264516                  167808               5552.600000  Missing   \n",
       "2         1.368704                  167808               5553.400000  Missing   \n",
       "3         3.233054                  367080               5560.600000  Missing   \n",
       "4         1.644425                  230736               5555.000000  Missing   \n",
       "...            ...                     ...                       ...      ...   \n",
       "546394    0.333844                     110               2774.300000   NoLink   \n",
       "546395    0.992423                     462               2779.100000   NoLink   \n",
       "546396    0.000000                       0                  0.000000   NoLink   \n",
       "546397    0.000000                      36               1847.933333   NoLink   \n",
       "546398    0.000000                      76               1847.933333   NoLink   \n",
       "\n",
       "        in_degree  out_degree  counts  max_duration  min_duration  \\\n",
       "0               8        2888     3.0        2972.0           1.0   \n",
       "1               4        2888     7.0        2971.0           0.0   \n",
       "2               3        2888     1.0        1202.0        1202.0   \n",
       "3               8        2888     2.0           1.0           0.0   \n",
       "4               1        2888     4.0        3455.0           1.0   \n",
       "...           ...         ...     ...           ...           ...   \n",
       "546394          0          11     0.0           0.0           0.0   \n",
       "546395          4          33     0.0           0.0           0.0   \n",
       "546396          0          32     0.0           0.0           0.0   \n",
       "546397          2          18     0.0           0.0           0.0   \n",
       "546398          2           4     0.0           0.0           0.0   \n",
       "\n",
       "        avg_duration  max_SrcBytes  min_SrcBytes  avg_SrcBytes  max_DstBytes  \\\n",
       "0         991.333333         288.0          96.0    160.000000           0.0   \n",
       "1         717.000000         288.0          96.0    137.142857           0.0   \n",
       "2        1202.000000         138.0         138.0    138.000000           0.0   \n",
       "3           0.500000         618.0          96.0    357.000000           0.0   \n",
       "4        1402.000000         384.0          96.0    264.000000           0.0   \n",
       "...              ...           ...           ...           ...           ...   \n",
       "546394      0.000000           0.0           0.0      0.000000           0.0   \n",
       "546395      0.000000           0.0           0.0      0.000000           0.0   \n",
       "546396      0.000000           0.0           0.0      0.000000           0.0   \n",
       "546397      0.000000           0.0           0.0      0.000000           0.0   \n",
       "546398      0.000000           0.0           0.0      0.000000           0.0   \n",
       "\n",
       "        min_DstBytes  avg_DstBytes  \n",
       "0                0.0           0.0  \n",
       "1                0.0           0.0  \n",
       "2                0.0           0.0  \n",
       "3                0.0           0.0  \n",
       "4                0.0           0.0  \n",
       "...              ...           ...  \n",
       "546394           0.0           0.0  \n",
       "546395           0.0           0.0  \n",
       "546396           0.0           0.0  \n",
       "546397           0.0           0.0  \n",
       "546398           0.0           0.0  \n",
       "\n",
       "[546399 rows x 20 columns]"
      ]
     },
     "execution_count": 2,
     "metadata": {},
     "output_type": "execute_result"
    }
   ],
   "source": [
    "trainData_file=csv.read_csv('Data/trainData_final_nolinks_50k_day02.csv')\n",
    "training_df2 =  trainData_file.to_pandas()\n",
    "training_df2"
   ]
  },
  {
   "cell_type": "code",
   "execution_count": 3,
   "id": "506b0197",
   "metadata": {
    "collapsed": true
   },
   "outputs": [
    {
     "data": {
      "text/html": [
       "<div>\n",
       "<style scoped>\n",
       "    .dataframe tbody tr th:only-of-type {\n",
       "        vertical-align: middle;\n",
       "    }\n",
       "\n",
       "    .dataframe tbody tr th {\n",
       "        vertical-align: top;\n",
       "    }\n",
       "\n",
       "    .dataframe thead th {\n",
       "        text-align: right;\n",
       "    }\n",
       "</style>\n",
       "<table border=\"1\" class=\"dataframe\">\n",
       "  <thead>\n",
       "    <tr style=\"text-align: right;\">\n",
       "      <th></th>\n",
       "      <th>Source</th>\n",
       "      <th>Destination</th>\n",
       "      <th>JaccardIndex</th>\n",
       "      <th>ResourceAllocation</th>\n",
       "      <th>AdamicAdar</th>\n",
       "      <th>PreferentialAttachment</th>\n",
       "      <th>CommonNeighborCentrality</th>\n",
       "      <th>Label</th>\n",
       "      <th>in_degree</th>\n",
       "      <th>out_degree</th>\n",
       "      <th>counts</th>\n",
       "      <th>max_duration</th>\n",
       "      <th>min_duration</th>\n",
       "      <th>avg_duration</th>\n",
       "      <th>max_SrcBytes</th>\n",
       "      <th>min_SrcBytes</th>\n",
       "      <th>avg_SrcBytes</th>\n",
       "      <th>max_DstBytes</th>\n",
       "      <th>min_DstBytes</th>\n",
       "      <th>avg_DstBytes</th>\n",
       "    </tr>\n",
       "  </thead>\n",
       "  <tbody>\n",
       "    <tr>\n",
       "      <th>0</th>\n",
       "      <td>ActiveDirectory</td>\n",
       "      <td>Comp000566</td>\n",
       "      <td>0.001477</td>\n",
       "      <td>0.258959</td>\n",
       "      <td>3.130220</td>\n",
       "      <td>227325</td>\n",
       "      <td>5683.800000</td>\n",
       "      <td>Missing</td>\n",
       "      <td>6</td>\n",
       "      <td>3602</td>\n",
       "      <td>1.0</td>\n",
       "      <td>86.0</td>\n",
       "      <td>86.0</td>\n",
       "      <td>86.000000</td>\n",
       "      <td>0.0</td>\n",
       "      <td>0.0</td>\n",
       "      <td>0.0</td>\n",
       "      <td>2327.0</td>\n",
       "      <td>2327.0</td>\n",
       "      <td>2327.0</td>\n",
       "    </tr>\n",
       "    <tr>\n",
       "      <th>1</th>\n",
       "      <td>ActiveDirectory</td>\n",
       "      <td>Comp002524</td>\n",
       "      <td>0.002213</td>\n",
       "      <td>0.008351</td>\n",
       "      <td>2.922840</td>\n",
       "      <td>465475</td>\n",
       "      <td>5690.200000</td>\n",
       "      <td>Missing</td>\n",
       "      <td>10</td>\n",
       "      <td>3602</td>\n",
       "      <td>6.0</td>\n",
       "      <td>4096.0</td>\n",
       "      <td>1.0</td>\n",
       "      <td>1400.666667</td>\n",
       "      <td>480.0</td>\n",
       "      <td>96.0</td>\n",
       "      <td>240.0</td>\n",
       "      <td>0.0</td>\n",
       "      <td>0.0</td>\n",
       "      <td>0.0</td>\n",
       "    </tr>\n",
       "    <tr>\n",
       "      <th>2</th>\n",
       "      <td>ActiveDirectory</td>\n",
       "      <td>Comp002907</td>\n",
       "      <td>0.001293</td>\n",
       "      <td>0.009648</td>\n",
       "      <td>1.742483</td>\n",
       "      <td>184025</td>\n",
       "      <td>5682.200000</td>\n",
       "      <td>Missing</td>\n",
       "      <td>2</td>\n",
       "      <td>3602</td>\n",
       "      <td>7.0</td>\n",
       "      <td>2070.0</td>\n",
       "      <td>1.0</td>\n",
       "      <td>296.571429</td>\n",
       "      <td>138.0</td>\n",
       "      <td>96.0</td>\n",
       "      <td>102.0</td>\n",
       "      <td>0.0</td>\n",
       "      <td>0.0</td>\n",
       "      <td>0.0</td>\n",
       "    </tr>\n",
       "    <tr>\n",
       "      <th>3</th>\n",
       "      <td>ActiveDirectory</td>\n",
       "      <td>Comp003489</td>\n",
       "      <td>0.001567</td>\n",
       "      <td>0.009273</td>\n",
       "      <td>2.117700</td>\n",
       "      <td>465475</td>\n",
       "      <td>5684.600000</td>\n",
       "      <td>Missing</td>\n",
       "      <td>6</td>\n",
       "      <td>3602</td>\n",
       "      <td>6.0</td>\n",
       "      <td>1.0</td>\n",
       "      <td>0.0</td>\n",
       "      <td>0.333333</td>\n",
       "      <td>96.0</td>\n",
       "      <td>96.0</td>\n",
       "      <td>96.0</td>\n",
       "      <td>0.0</td>\n",
       "      <td>0.0</td>\n",
       "      <td>0.0</td>\n",
       "    </tr>\n",
       "    <tr>\n",
       "      <th>4</th>\n",
       "      <td>ActiveDirectory</td>\n",
       "      <td>Comp005115</td>\n",
       "      <td>0.002030</td>\n",
       "      <td>0.007595</td>\n",
       "      <td>2.633240</td>\n",
       "      <td>368050</td>\n",
       "      <td>5688.600000</td>\n",
       "      <td>Missing</td>\n",
       "      <td>1</td>\n",
       "      <td>3602</td>\n",
       "      <td>1.0</td>\n",
       "      <td>0.0</td>\n",
       "      <td>0.0</td>\n",
       "      <td>0.000000</td>\n",
       "      <td>46.0</td>\n",
       "      <td>46.0</td>\n",
       "      <td>46.0</td>\n",
       "      <td>0.0</td>\n",
       "      <td>0.0</td>\n",
       "      <td>0.0</td>\n",
       "    </tr>\n",
       "    <tr>\n",
       "      <th>...</th>\n",
       "      <td>...</td>\n",
       "      <td>...</td>\n",
       "      <td>...</td>\n",
       "      <td>...</td>\n",
       "      <td>...</td>\n",
       "      <td>...</td>\n",
       "      <td>...</td>\n",
       "      <td>...</td>\n",
       "      <td>...</td>\n",
       "      <td>...</td>\n",
       "      <td>...</td>\n",
       "      <td>...</td>\n",
       "      <td>...</td>\n",
       "      <td>...</td>\n",
       "      <td>...</td>\n",
       "      <td>...</td>\n",
       "      <td>...</td>\n",
       "      <td>...</td>\n",
       "      <td>...</td>\n",
       "      <td>...</td>\n",
       "    </tr>\n",
       "    <tr>\n",
       "      <th>554445</th>\n",
       "      <td>Comp235897</td>\n",
       "      <td>Comp505193</td>\n",
       "      <td>0.000000</td>\n",
       "      <td>0.000000</td>\n",
       "      <td>0.000000</td>\n",
       "      <td>154</td>\n",
       "      <td>1890.333333</td>\n",
       "      <td>NoLink</td>\n",
       "      <td>11</td>\n",
       "      <td>14</td>\n",
       "      <td>0.0</td>\n",
       "      <td>0.0</td>\n",
       "      <td>0.0</td>\n",
       "      <td>0.000000</td>\n",
       "      <td>0.0</td>\n",
       "      <td>0.0</td>\n",
       "      <td>0.0</td>\n",
       "      <td>0.0</td>\n",
       "      <td>0.0</td>\n",
       "      <td>0.0</td>\n",
       "    </tr>\n",
       "    <tr>\n",
       "      <th>554446</th>\n",
       "      <td>Comp804839</td>\n",
       "      <td>Comp363110</td>\n",
       "      <td>0.285714</td>\n",
       "      <td>0.001697</td>\n",
       "      <td>1.346786</td>\n",
       "      <td>680</td>\n",
       "      <td>2845.100000</td>\n",
       "      <td>NoLink</td>\n",
       "      <td>3</td>\n",
       "      <td>20</td>\n",
       "      <td>0.0</td>\n",
       "      <td>0.0</td>\n",
       "      <td>0.0</td>\n",
       "      <td>0.000000</td>\n",
       "      <td>0.0</td>\n",
       "      <td>0.0</td>\n",
       "      <td>0.0</td>\n",
       "      <td>0.0</td>\n",
       "      <td>0.0</td>\n",
       "      <td>0.0</td>\n",
       "    </tr>\n",
       "    <tr>\n",
       "      <th>554447</th>\n",
       "      <td>Comp079329</td>\n",
       "      <td>Comp257079</td>\n",
       "      <td>0.200000</td>\n",
       "      <td>0.000792</td>\n",
       "      <td>0.140047</td>\n",
       "      <td>9</td>\n",
       "      <td>2836.300000</td>\n",
       "      <td>NoLink</td>\n",
       "      <td>1</td>\n",
       "      <td>2</td>\n",
       "      <td>0.0</td>\n",
       "      <td>0.0</td>\n",
       "      <td>0.0</td>\n",
       "      <td>0.000000</td>\n",
       "      <td>0.0</td>\n",
       "      <td>0.0</td>\n",
       "      <td>0.0</td>\n",
       "      <td>0.0</td>\n",
       "      <td>0.0</td>\n",
       "      <td>0.0</td>\n",
       "    </tr>\n",
       "    <tr>\n",
       "      <th>554448</th>\n",
       "      <td>Comp838114</td>\n",
       "      <td>Comp937614</td>\n",
       "      <td>0.000000</td>\n",
       "      <td>0.000000</td>\n",
       "      <td>0.000000</td>\n",
       "      <td>0</td>\n",
       "      <td>0.000000</td>\n",
       "      <td>NoLink</td>\n",
       "      <td>0</td>\n",
       "      <td>10</td>\n",
       "      <td>0.0</td>\n",
       "      <td>0.0</td>\n",
       "      <td>0.0</td>\n",
       "      <td>0.000000</td>\n",
       "      <td>0.0</td>\n",
       "      <td>0.0</td>\n",
       "      <td>0.0</td>\n",
       "      <td>0.0</td>\n",
       "      <td>0.0</td>\n",
       "      <td>0.0</td>\n",
       "    </tr>\n",
       "    <tr>\n",
       "      <th>554449</th>\n",
       "      <td>Comp045421</td>\n",
       "      <td>Comp846723</td>\n",
       "      <td>0.000000</td>\n",
       "      <td>0.000000</td>\n",
       "      <td>0.000000</td>\n",
       "      <td>76</td>\n",
       "      <td>1890.333333</td>\n",
       "      <td>NoLink</td>\n",
       "      <td>7</td>\n",
       "      <td>0</td>\n",
       "      <td>0.0</td>\n",
       "      <td>0.0</td>\n",
       "      <td>0.0</td>\n",
       "      <td>0.000000</td>\n",
       "      <td>0.0</td>\n",
       "      <td>0.0</td>\n",
       "      <td>0.0</td>\n",
       "      <td>0.0</td>\n",
       "      <td>0.0</td>\n",
       "      <td>0.0</td>\n",
       "    </tr>\n",
       "  </tbody>\n",
       "</table>\n",
       "<p>554450 rows × 20 columns</p>\n",
       "</div>"
      ],
      "text/plain": [
       "                 Source Destination  JaccardIndex  ResourceAllocation  \\\n",
       "0       ActiveDirectory  Comp000566      0.001477            0.258959   \n",
       "1       ActiveDirectory  Comp002524      0.002213            0.008351   \n",
       "2       ActiveDirectory  Comp002907      0.001293            0.009648   \n",
       "3       ActiveDirectory  Comp003489      0.001567            0.009273   \n",
       "4       ActiveDirectory  Comp005115      0.002030            0.007595   \n",
       "...                 ...         ...           ...                 ...   \n",
       "554445       Comp235897  Comp505193      0.000000            0.000000   \n",
       "554446       Comp804839  Comp363110      0.285714            0.001697   \n",
       "554447       Comp079329  Comp257079      0.200000            0.000792   \n",
       "554448       Comp838114  Comp937614      0.000000            0.000000   \n",
       "554449       Comp045421  Comp846723      0.000000            0.000000   \n",
       "\n",
       "        AdamicAdar  PreferentialAttachment  CommonNeighborCentrality    Label  \\\n",
       "0         3.130220                  227325               5683.800000  Missing   \n",
       "1         2.922840                  465475               5690.200000  Missing   \n",
       "2         1.742483                  184025               5682.200000  Missing   \n",
       "3         2.117700                  465475               5684.600000  Missing   \n",
       "4         2.633240                  368050               5688.600000  Missing   \n",
       "...            ...                     ...                       ...      ...   \n",
       "554445    0.000000                     154               1890.333333   NoLink   \n",
       "554446    1.346786                     680               2845.100000   NoLink   \n",
       "554447    0.140047                       9               2836.300000   NoLink   \n",
       "554448    0.000000                       0                  0.000000   NoLink   \n",
       "554449    0.000000                      76               1890.333333   NoLink   \n",
       "\n",
       "        in_degree  out_degree  counts  max_duration  min_duration  \\\n",
       "0               6        3602     1.0          86.0          86.0   \n",
       "1              10        3602     6.0        4096.0           1.0   \n",
       "2               2        3602     7.0        2070.0           1.0   \n",
       "3               6        3602     6.0           1.0           0.0   \n",
       "4               1        3602     1.0           0.0           0.0   \n",
       "...           ...         ...     ...           ...           ...   \n",
       "554445         11          14     0.0           0.0           0.0   \n",
       "554446          3          20     0.0           0.0           0.0   \n",
       "554447          1           2     0.0           0.0           0.0   \n",
       "554448          0          10     0.0           0.0           0.0   \n",
       "554449          7           0     0.0           0.0           0.0   \n",
       "\n",
       "        avg_duration  max_SrcBytes  min_SrcBytes  avg_SrcBytes  max_DstBytes  \\\n",
       "0          86.000000           0.0           0.0           0.0        2327.0   \n",
       "1        1400.666667         480.0          96.0         240.0           0.0   \n",
       "2         296.571429         138.0          96.0         102.0           0.0   \n",
       "3           0.333333          96.0          96.0          96.0           0.0   \n",
       "4           0.000000          46.0          46.0          46.0           0.0   \n",
       "...              ...           ...           ...           ...           ...   \n",
       "554445      0.000000           0.0           0.0           0.0           0.0   \n",
       "554446      0.000000           0.0           0.0           0.0           0.0   \n",
       "554447      0.000000           0.0           0.0           0.0           0.0   \n",
       "554448      0.000000           0.0           0.0           0.0           0.0   \n",
       "554449      0.000000           0.0           0.0           0.0           0.0   \n",
       "\n",
       "        min_DstBytes  avg_DstBytes  \n",
       "0             2327.0        2327.0  \n",
       "1                0.0           0.0  \n",
       "2                0.0           0.0  \n",
       "3                0.0           0.0  \n",
       "4                0.0           0.0  \n",
       "...              ...           ...  \n",
       "554445           0.0           0.0  \n",
       "554446           0.0           0.0  \n",
       "554447           0.0           0.0  \n",
       "554448           0.0           0.0  \n",
       "554449           0.0           0.0  \n",
       "\n",
       "[554450 rows x 20 columns]"
      ]
     },
     "execution_count": 3,
     "metadata": {},
     "output_type": "execute_result"
    }
   ],
   "source": [
    "testData_file=csv.read_csv('Data/testData_final_nolinks__50k_day02.csv')\n",
    "testing_df2 =  testData_file.to_pandas()\n",
    "testing_df2"
   ]
  },
  {
   "cell_type": "code",
   "execution_count": null,
   "id": "50c8fd6e",
   "metadata": {},
   "outputs": [],
   "source": []
  },
  {
   "cell_type": "code",
   "execution_count": 4,
   "id": "97613b1a",
   "metadata": {},
   "outputs": [],
   "source": [
    "from sklearn.ensemble import RandomForestClassifier\n",
    "from sklearn.metrics import accuracy_score\n",
    "\n",
    "X_test, y_test = testing_df2[['JaccardIndex', 'ResourceAllocation','AdamicAdar','PreferentialAttachment',  'CommonNeighborCentrality','counts','in_degree','out_degree','max_duration','min_duration','avg_duration','max_SrcBytes','min_SrcBytes','avg_SrcBytes','max_DstBytes','min_DstBytes','avg_DstBytes']], testing_df2['Label']\n",
    "\n",
    "model = RandomForestClassifier()\n",
    "#model.fit(X_train, y_train)\n",
    "\n",
    "#print(f\"Accuracy on the test set: {accuracy_score(y_test, model.predict(X_test))}\")"
   ]
  },
  {
   "cell_type": "code",
   "execution_count": 5,
   "id": "399e4dba",
   "metadata": {},
   "outputs": [
    {
     "data": {
      "text/plain": [
       "270005"
      ]
     },
     "execution_count": 5,
     "metadata": {},
     "output_type": "execute_result"
    }
   ],
   "source": [
    "len(training_df2[training_df2[\"Label\"]==\"Continuing\"])\n"
   ]
  },
  {
   "cell_type": "code",
   "execution_count": 6,
   "id": "e64be2c4",
   "metadata": {},
   "outputs": [
    {
     "data": {
      "text/plain": [
       "95542"
      ]
     },
     "execution_count": 6,
     "metadata": {},
     "output_type": "execute_result"
    }
   ],
   "source": [
    "len(training_df2[training_df2[\"Label\"]==\"Missing\"])\n"
   ]
  },
  {
   "cell_type": "code",
   "execution_count": 7,
   "id": "9a52a5db",
   "metadata": {},
   "outputs": [
    {
     "data": {
      "text/plain": [
       "130870"
      ]
     },
     "execution_count": 7,
     "metadata": {},
     "output_type": "execute_result"
    }
   ],
   "source": [
    "len(training_df2[training_df2[\"Label\"]==\"New\"])"
   ]
  },
  {
   "cell_type": "code",
   "execution_count": 8,
   "id": "c6a1efb8",
   "metadata": {},
   "outputs": [
    {
     "data": {
      "text/plain": [
       "49982"
      ]
     },
     "execution_count": 8,
     "metadata": {},
     "output_type": "execute_result"
    }
   ],
   "source": [
    "len(training_df2[training_df2[\"Label\"]==\"NoLink\"])"
   ]
  },
  {
   "cell_type": "code",
   "execution_count": 9,
   "id": "4b9e87c9",
   "metadata": {},
   "outputs": [
    {
     "data": {
      "text/plain": [
       "298500"
      ]
     },
     "execution_count": 9,
     "metadata": {},
     "output_type": "execute_result"
    }
   ],
   "source": [
    "len(testing_df2[testing_df2[\"Label\"]==\"Continuing\"])"
   ]
  },
  {
   "cell_type": "code",
   "execution_count": 10,
   "id": "0d4757db",
   "metadata": {},
   "outputs": [
    {
     "data": {
      "text/plain": [
       "102375"
      ]
     },
     "execution_count": 10,
     "metadata": {},
     "output_type": "execute_result"
    }
   ],
   "source": [
    "len(testing_df2[testing_df2[\"Label\"]==\"Missing\"])"
   ]
  },
  {
   "cell_type": "code",
   "execution_count": 11,
   "id": "d4e46601",
   "metadata": {},
   "outputs": [
    {
     "data": {
      "text/plain": [
       "103600"
      ]
     },
     "execution_count": 11,
     "metadata": {},
     "output_type": "execute_result"
    }
   ],
   "source": [
    "len(testing_df2[testing_df2[\"Label\"]==\"New\"])"
   ]
  },
  {
   "cell_type": "code",
   "execution_count": 12,
   "id": "77aabc88",
   "metadata": {},
   "outputs": [],
   "source": [
    "TrainTest=[]\n",
    "TrainTest.append(training_df2)\n",
    "TrainTest.append(testing_df2)"
   ]
  },
  {
   "cell_type": "code",
   "execution_count": 13,
   "id": "25627463",
   "metadata": {},
   "outputs": [],
   "source": [
    "trainData=training_df2.copy()"
   ]
  },
  {
   "cell_type": "code",
   "execution_count": 14,
   "id": "089cfd25",
   "metadata": {},
   "outputs": [],
   "source": [
    "train_Cont_df=trainData[trainData[\"Label\"]==\"Continuing\"]\n",
    "train_Miss_df=trainData[trainData[\"Label\"]==\"Missing\"]\n",
    "train_New_df=trainData[trainData[\"Label\"]==\"New\"]\n",
    "train_NoLink_df=trainData[trainData[\"Label\"]==\"NoLink\"]"
   ]
  },
  {
   "cell_type": "code",
   "execution_count": 15,
   "id": "f5d632f6",
   "metadata": {},
   "outputs": [],
   "source": [
    "# Step 5 Performance Evaluation: \n",
    "from sklearn.metrics import classification_report, confusion_matrix\n",
    "\n",
    "target_names=['Continuing','Missing', 'New','NoLink']\n",
    "#report_2 = classification_report(y_test, pred, target_names=target_names)\n",
    "#print(f\"Test Score\\t {pred}\")\n",
    "#print(report_2)"
   ]
  },
  {
   "cell_type": "code",
   "execution_count": 16,
   "id": "51f0e8c2",
   "metadata": {},
   "outputs": [],
   "source": [
    "dfc=train_Cont_df.sample(n = 49000)\n",
    "dfm=train_Miss_df.sample(n = 49000)\n",
    "dfn=train_New_df.sample(n = 49000)\n",
    "dfnl=train_NoLink_df.sample(n = 49000)"
   ]
  },
  {
   "cell_type": "code",
   "execution_count": 17,
   "id": "49cdf11f",
   "metadata": {},
   "outputs": [
    {
     "name": "stdout",
     "output_type": "stream",
     "text": [
      "Accuracy on the test set: 0.8242853278023267\n"
     ]
    }
   ],
   "source": [
    "trainData_df3=pd.concat([dfc,dfm,dfn,dfnl],ignore_index=True)\n",
    "X_train_3, y_train_3 = trainData_df3[['JaccardIndex', 'ResourceAllocation','AdamicAdar','PreferentialAttachment', 'CommonNeighborCentrality','counts','in_degree','out_degree','max_duration','min_duration','avg_duration','max_SrcBytes','min_SrcBytes','avg_SrcBytes','max_DstBytes','min_DstBytes','avg_DstBytes']], trainData_df3['Label']\n",
    "model.fit(X_train_3, y_train_3)\n",
    "pred = model.predict(X_test)\n",
    "Accuracy_score=accuracy_score(y_test, pred)\n",
    "\n",
    "print(f\"Accuracy on the test set: {Accuracy_score}\")"
   ]
  },
  {
   "cell_type": "code",
   "execution_count": 21,
   "id": "9bee0c32",
   "metadata": {},
   "outputs": [],
   "source": [
    "# Use the trained model to predict probabilities for each class\n",
    "y_scores = model.predict_proba(X_test)"
   ]
  },
  {
   "cell_type": "code",
   "execution_count": 22,
   "id": "a1eadbc1",
   "metadata": {},
   "outputs": [
    {
     "data": {
      "text/plain": [
       "array([[0.22      , 0.78      , 0.        , 0.        ],\n",
       "       [0.59      , 0.41      , 0.        , 0.        ],\n",
       "       [0.53      , 0.47      , 0.        , 0.        ],\n",
       "       ...,\n",
       "       [0.        , 0.        , 0.25      , 0.75      ],\n",
       "       [0.        , 0.        , 0.20188352, 0.79811648],\n",
       "       [0.        , 0.        , 0.02      , 0.98      ]])"
      ]
     },
     "execution_count": 22,
     "metadata": {},
     "output_type": "execute_result"
    }
   ],
   "source": [
    "y_scores"
   ]
  },
  {
   "cell_type": "code",
   "execution_count": 23,
   "id": "4d28239d",
   "metadata": {},
   "outputs": [],
   "source": [
    "newlinks_scores = y_scores[:, 2]"
   ]
  },
  {
   "cell_type": "code",
   "execution_count": 51,
   "id": "04666a30",
   "metadata": {},
   "outputs": [],
   "source": [
    "missing_scores=y_scores[:, 1]"
   ]
  },
  {
   "cell_type": "code",
   "execution_count": 53,
   "id": "f2a59007",
   "metadata": {},
   "outputs": [],
   "source": [
    "cont_scores=y_scores[:, 0]"
   ]
  },
  {
   "cell_type": "code",
   "execution_count": 54,
   "id": "24cb0f49",
   "metadata": {},
   "outputs": [],
   "source": [
    "nolinks_scores=y_scores[:, 3]"
   ]
  },
  {
   "cell_type": "code",
   "execution_count": 24,
   "id": "a8f71bb0",
   "metadata": {},
   "outputs": [
    {
     "data": {
      "text/plain": [
       "array([0.        , 0.        , 0.        , ..., 0.25      , 0.20188352,\n",
       "       0.02      ])"
      ]
     },
     "execution_count": 24,
     "metadata": {},
     "output_type": "execute_result"
    }
   ],
   "source": [
    "newlinks_scores"
   ]
  },
  {
   "cell_type": "code",
   "execution_count": 18,
   "id": "4849b465",
   "metadata": {},
   "outputs": [
    {
     "name": "stdout",
     "output_type": "stream",
     "text": [
      "Confusion Matrix: \n",
      " [[246430  52070      0      0]\n",
      " [ 34430  67945      0      0]\n",
      " [     0      0  95234   8366]\n",
      " [     0      0   2559  47416]]\n"
     ]
    }
   ],
   "source": [
    "# Step 5 Performance Evaluation: Confusion Matrix\n",
    "from sklearn.metrics import confusion_matrix\n",
    "#print(\"Sample size for Computer Work   =\",(X['Activity']==2).sum())\n",
    "\n",
    "pred = model.predict(X_test)\n",
    "cm = confusion_matrix(y_test, pred)\n",
    "\n",
    "print('Confusion Matrix: \\n', cm)"
   ]
  },
  {
   "cell_type": "code",
   "execution_count": 19,
   "id": "478a5c6c",
   "metadata": {},
   "outputs": [
    {
     "data": {
      "image/png": "[encoded data removed]",
      "text/plain": [
       "<Figure size 640x480 with 2 Axes>"
      ]
     },
     "metadata": {},
     "output_type": "display_data"
    }
   ],
   "source": [
    "#step 5 Performance Evaluation: Confusion Matrix Visualization\n",
    "import matplotlib.pyplot as plt\n",
    "\n",
    "class_names=['Continuing','Missing','New','NoLinks']\n",
    "from sklearn.metrics import ConfusionMatrixDisplay\n",
    "disp = ConfusionMatrixDisplay(confusion_matrix=cm, display_labels=class_names)\n",
    "disp.plot(values_format=\"d\")\n",
    "#disp.plot()\n",
    "plt.show()"
   ]
  },
  {
   "cell_type": "code",
   "execution_count": 20,
   "id": "884cc4ca",
   "metadata": {},
   "outputs": [
    {
     "name": "stdout",
     "output_type": "stream",
     "text": [
      "              precision    recall  f1-score   support\n",
      "\n",
      "  Continuing       0.88      0.83      0.85    298500\n",
      "     Missing       0.57      0.66      0.61    102375\n",
      "         New       0.97      0.92      0.95    103600\n",
      "     NoLinks       0.85      0.95      0.90     49975\n",
      "\n",
      "    accuracy                           0.82    554450\n",
      "   macro avg       0.82      0.84      0.83    554450\n",
      "weighted avg       0.84      0.82      0.83    554450\n",
      "\n"
     ]
    }
   ],
   "source": [
    "# Step 5 Performance Evaluation: \n",
    "from sklearn.metrics import classification_report, confusion_matrix\n",
    "\n",
    "target_names=['Continuing','Missing', 'New','NoLinks']\n",
    "report_2 = classification_report(y_test, pred, target_names=target_names)\n",
    "#print(f\"Test Score\\t {pred}\")\n",
    "print(report_2)"
   ]
  },
  {
   "cell_type": "code",
   "execution_count": 34,
   "id": "9cb580c5",
   "metadata": {},
   "outputs": [
    {
     "name": "stdout",
     "output_type": "stream",
     "text": [
      "{'Continuing', 'NoLink', 'Missing', 'New'}\n"
     ]
    }
   ],
   "source": [
    "print(set(y_test))"
   ]
  },
  {
   "cell_type": "code",
   "execution_count": 74,
   "id": "3c1bdfbe",
   "metadata": {},
   "outputs": [
    {
     "data": {
      "text/plain": [
       "298500"
      ]
     },
     "execution_count": 74,
     "metadata": {},
     "output_type": "execute_result"
    }
   ],
   "source": [
    "y_test.value_counts()['Continuing']"
   ]
  },
  {
   "cell_type": "code",
   "execution_count": 44,
   "id": "571a8a36",
   "metadata": {},
   "outputs": [
    {
     "name": "stdout",
     "output_type": "stream",
     "text": [
      "<class 'pandas.core.series.Series'>\n",
      "RangeIndex: 554450 entries, 0 to 554449\n",
      "Series name: Label\n",
      "Non-Null Count   Dtype \n",
      "--------------   ----- \n",
      "554450 non-null  object\n",
      "dtypes: object(1)\n",
      "memory usage: 4.2+ MB\n"
     ]
    }
   ],
   "source": [
    "y_test.info()"
   ]
  },
  {
   "cell_type": "code",
   "execution_count": 79,
   "id": "602d622f",
   "metadata": {},
   "outputs": [],
   "source": [
    "# Assuming y_test is a pandas Series containing class labels\n",
    "y_test_binary = (y_test == 'New').astype(int)"
   ]
  },
  {
   "cell_type": "code",
   "execution_count": 80,
   "id": "0860bb02",
   "metadata": {},
   "outputs": [
    {
     "data": {
      "text/plain": [
       "array([0, 1])"
      ]
     },
     "execution_count": 80,
     "metadata": {},
     "output_type": "execute_result"
    }
   ],
   "source": [
    "y_test_binary.unique()"
   ]
  },
  {
   "cell_type": "code",
   "execution_count": null,
   "id": "e8e85e48",
   "metadata": {},
   "outputs": [],
   "source": []
  },
  {
   "cell_type": "code",
   "execution_count": 35,
   "id": "3ed35849",
   "metadata": {},
   "outputs": [],
   "source": [
    "from sklearn.preprocessing import label_binarize\n",
    "\n",
    "# Binarize the true labels for the 'New' class (1 for 'New', 0 for other classes)\n",
    "#y_test_binary = label_binarize(y_test, classes=['Continuing', 'NoLink', 'Missing', 'New'])[:, 3]  # Index 3 corresponds to 'New'\n"
   ]
  },
  {
   "cell_type": "code",
   "execution_count": 81,
   "id": "7342d48e",
   "metadata": {},
   "outputs": [
    {
     "data": {
      "text/plain": [
       "0         0\n",
       "1         0\n",
       "2         0\n",
       "3         0\n",
       "4         0\n",
       "         ..\n",
       "554445    0\n",
       "554446    0\n",
       "554447    0\n",
       "554448    0\n",
       "554449    0\n",
       "Name: Label, Length: 554450, dtype: int64"
      ]
     },
     "execution_count": 81,
     "metadata": {},
     "output_type": "execute_result"
    }
   ],
   "source": [
    "y_test_binary"
   ]
  },
  {
   "cell_type": "code",
   "execution_count": 82,
   "id": "5a8942fa",
   "metadata": {},
   "outputs": [
    {
     "data": {
      "text/plain": [
       "103600"
      ]
     },
     "execution_count": 82,
     "metadata": {},
     "output_type": "execute_result"
    }
   ],
   "source": [
    "y_test_binary.value_counts()[1]"
   ]
  },
  {
   "cell_type": "code",
   "execution_count": 50,
   "id": "57e23df9",
   "metadata": {},
   "outputs": [
    {
     "data": {
      "text/plain": [
       "array([0.        , 0.        , 0.        , ..., 0.25      , 0.20188352,\n",
       "       0.02      ])"
      ]
     },
     "execution_count": 50,
     "metadata": {},
     "output_type": "execute_result"
    }
   ],
   "source": [
    "newlinks_scores"
   ]
  },
  {
   "cell_type": "code",
   "execution_count": 68,
   "id": "1cc298a6",
   "metadata": {},
   "outputs": [
    {
     "data": {
      "image/png": "[encoded data removed]",
      "text/plain": [
       "<Figure size 640x480 with 1 Axes>"
      ]
     },
     "metadata": {},
     "output_type": "display_data"
    }
   ],
   "source": [
    "from sklearn.metrics import roc_curve, auc\n",
    "import matplotlib.pyplot as plt\n",
    "\n",
    "# Assuming y_test contains true labels for the test data\n",
    "fpr, tpr, thresholds = roc_curve(y_test_binary, newlinks_scores)\n",
    "roc_auc = auc(fpr, tpr)\n",
    "\n",
    "plt.figure()\n",
    "plt.plot(fpr, tpr, color='darkorange', lw=2, label='ROC curve (area = %0.2f)' % roc_auc)\n",
    "plt.plot([0, 1], [0, 1], color='navy', lw=2, linestyle='--')\n",
    "plt.xlim([0.0, 1.0])\n",
    "plt.ylim([0.0, 1.05])\n",
    "plt.xlabel('False Positive Rate')\n",
    "plt.ylabel('True Positive Rate')\n",
    "plt.title('ROC Curve for NewLinks Class')\n",
    "plt.legend(loc='lower right')\n",
    "plt.show()\n",
    "\n"
   ]
  }
 ],
 "metadata": {
  "kernelspec": {
   "display_name": "Python 3 (ipykernel)",
   "language": "python",
   "name": "python3"
  },
  "language_info": {
   "codemirror_mode": {
    "name": "ipython",
    "version": 3
   },
   "file_extension": ".py",
   "mimetype": "text/x-python",
   "name": "python",
   "nbconvert_exporter": "python",
   "pygments_lexer": "ipython3",
   "version": "3.10.10"
  }
 },
 "nbformat": 4,
 "nbformat_minor": 5
}
